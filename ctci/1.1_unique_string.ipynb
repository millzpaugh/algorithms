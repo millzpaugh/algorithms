{
 "cells": [
  {
   "cell_type": "code",
   "execution_count": 36,
   "metadata": {
    "collapsed": false
   },
   "outputs": [],
   "source": [
    "import unittest \n",
    "\n",
    "# first attempt \n",
    "def unique_string(string):\n",
    "    chars = []\n",
    "    counter = 0 \n",
    "    for n in string: \n",
    "        if n not in chars: \n",
    "            chars.append(n)\n",
    "        else:\n",
    "            counter +=1 \n",
    "    return counter < 1 \n",
    "\n",
    "#use set \n",
    "def unique_string_set(string): \n",
    "    return len(string) == len(set(string))\n",
    "\n",
    "#use only str data structures\n",
    "def unique_string_no_other_structures(string):\n",
    "    for letter in string: \n",
    "        if string.count(letter) > 1: \n",
    "            return False \n",
    "    return True \n",
    "\n",
    "\n",
    "class Test(unittest.TestCase):\n",
    "    dataT = [('abcd'), ('s4fad'), ('')]\n",
    "    dataF = [('23ds2'), ('hb 627jh=j ()')]\n",
    "\n",
    "    def test_unique(self):\n",
    "        # true check\n",
    "        for test_string in self.dataT:\n",
    "            actual = unique_string(test_string)\n",
    "            set_value = unique_string_set(test_string)\n",
    "            unique_struct = unique_string_no_other_structures(test_string)\n",
    "            \n",
    "            self.assertTrue(actual)\n",
    "            self.assertTrue(set_value)\n",
    "            self.assertTrue(unique_struct)\n",
    "\n",
    "\n",
    "        # false check\n",
    "        for test_string in self.dataF:\n",
    "            actual = unique_string(test_string)\n",
    "            set_value = unique_string_set(test_string)\n",
    "            unique_struct = unique_string_no_other_structures(test_string)\n",
    "\n",
    "            self.assertFalse(actual)\n",
    "            self.assertFalse(set_value)\n",
    "            self.assertFalse(unique_struct)\n",
    "\n",
    "\n",
    "\n"
   ]
  },
  {
   "cell_type": "code",
   "execution_count": 38,
   "metadata": {
    "collapsed": false
   },
   "outputs": [],
   "source": [
    "t = Test()\n",
    "t.test_unique()\n"
   ]
  },
  {
   "cell_type": "code",
   "execution_count": 23,
   "metadata": {
    "collapsed": true
   },
   "outputs": [],
   "source": [
    "a = unique_string_set('abcd')\n"
   ]
  },
  {
   "cell_type": "code",
   "execution_count": 30,
   "metadata": {
    "collapsed": false
   },
   "outputs": [
    {
     "data": {
      "text/plain": [
       "2"
      ]
     },
     "execution_count": 30,
     "metadata": {},
     "output_type": "execute_result"
    }
   ],
   "source": [
    "string = 'abdjjekl'\n",
    "string.count('j')"
   ]
  },
  {
   "cell_type": "code",
   "execution_count": null,
   "metadata": {
    "collapsed": true
   },
   "outputs": [],
   "source": []
  }
 ],
 "metadata": {
  "kernelspec": {
   "display_name": "Python [Root]",
   "language": "python",
   "name": "Python [Root]"
  },
  "language_info": {
   "codemirror_mode": {
    "name": "ipython",
    "version": 3
   },
   "file_extension": ".py",
   "mimetype": "text/x-python",
   "name": "python",
   "nbconvert_exporter": "python",
   "pygments_lexer": "ipython3",
   "version": "3.5.2"
  }
 },
 "nbformat": 4,
 "nbformat_minor": 0
}
